{
 "cells": [
  {
   "cell_type": "code",
   "execution_count": 15,
   "metadata": {},
   "outputs": [],
   "source": [
    "import numpy as np\n",
    "import matplotlib.pyplot as plt\n",
    "import data_manupulation\n",
    "from numpy.linalg import inv\n",
    "import pandas as pd\n",
    "import sys\n",
    "\n",
    "x,y = data_manupulation.start()\n",
    "x0 = np.ones((len(x),1))\n",
    "x = np.concatenate((x0,x),axis=1).astype(float)\n",
    "x = x[0:1000,:]\n",
    "y = y[0:1000,:]"
   ]
  },
  {
   "cell_type": "code",
   "execution_count": 16,
   "metadata": {
    "collapsed": true
   },
   "outputs": [],
   "source": [
    "iterations = 20\n",
    "hidden_layer = 1\n",
    "hidden_units = len(x[0])+1\n",
    "theta1 = np.array(np.random.uniform(-1,1,(len(x[0]),hidden_units))).astype(float)\n",
    "theta2 = np.array(np.random.uniform(-1,1,(hidden_units,1))).astype(float)"
   ]
  },
  {
   "cell_type": "code",
   "execution_count": 17,
   "metadata": {
    "collapsed": true
   },
   "outputs": [],
   "source": [
    "costs = []\n",
    "learning_rate = 0.1"
   ]
  },
  {
   "cell_type": "code",
   "execution_count": 18,
   "metadata": {
    "collapsed": true
   },
   "outputs": [],
   "source": [
    "def tanh(x):\n",
    "    return np.tanh(x)\n",
    "\n",
    "\n",
    "def tanh_prime(x):\n",
    "    return 1.0 - x ** 2"
   ]
  },
  {
   "cell_type": "code",
   "execution_count": 19,
   "metadata": {},
   "outputs": [
    {
     "name": "stdout",
     "output_type": "stream",
     "text": [
      "Iteration : 19/20"
     ]
    }
   ],
   "source": [
    "for i in range(0,iterations):\n",
    "    \n",
    "    sys.stdout.write(\"\\r\")\n",
    "    sys.stdout.write(\"Iteration : \" + str(i) + \"/\" + str(iterations))\n",
    "    sys.stdout.flush()\n",
    "\n",
    "    rnd = np.random.randint(0,len(x))\n",
    "    tempx = np.atleast_2d(x[rnd].astype(float))\n",
    "    tempy = np.atleast_2d(y[rnd].astype(float))\n",
    "    \n",
    "    c = 0\n",
    "    for i in range(len(x)) :\n",
    "        a = x[i]\n",
    "        a = tanh(np.dot(a, theta1))\n",
    "        a = tanh(np.dot(a, theta2))\n",
    "        c = c + (a[0]-y[i])**2\n",
    "\n",
    "    costs.append(c/len(x))\n",
    "    \n",
    "    a1 = tempx\n",
    "    a2 = tanh(np.array(np.dot(a1,theta1)))\n",
    "    a3 = tanh(np.array(np.dot(a2,theta2)))\n",
    "    \n",
    "    error = np.subtract(a3,tempy)\n",
    "    \n",
    "    delta3 = np.dot(error,tanh_prime(a3))\n",
    "    \n",
    "    del2 = np.dot(delta3,theta2.transpose())\n",
    "    delta2 = del2*tanh_prime(a2)\n",
    "    \n",
    "    theta1 = theta1 - learning_rate*(np.dot(a1.transpose(),delta2))\n",
    "    theta2 = theta2 - learning_rate*(np.dot(a2.transpose(),delta3))\n",
    "    "
   ]
  },
  {
   "cell_type": "code",
   "execution_count": 46,
   "metadata": {},
   "outputs": [
    {
     "name": "stdout",
     "output_type": "stream",
     "text": [
      "\n",
      "Actual Output :  [0] \n",
      "Predicted -1.0\n"
     ]
    }
   ],
   "source": [
    "rnd = np.random.randint(0,len(x))\n",
    "a = np.atleast_2d(x[rnd].astype(float))\n",
    "a = tanh(np.dot(a, theta1))\n",
    "a = tanh(np.dot(a, theta2))\n",
    "print('\\nActual Output : ' ,y[rnd] , '\\nPredicted' , a[0,0] )"
   ]
  },
  {
   "cell_type": "code",
   "execution_count": 21,
   "metadata": {},
   "outputs": [
    {
     "name": "stdout",
     "output_type": "stream",
     "text": [
      "Costs :  1.1820605582838333\n",
      "Costs :  1.1820605582838333\n",
      "Costs :  1.1820605680778802\n",
      "Costs :  1.1820605680778802\n",
      "Costs :  1.1820048542786412\n",
      "Costs :  1.1932443367358365\n",
      "Costs :  1.1932443367358365\n",
      "Costs :  1.1932443364547172\n",
      "Costs :  1.193244336438189\n",
      "Costs :  1.1931754687976133\n",
      "Costs :  1.1931754687769525\n",
      "Costs :  1.1845285491283837\n",
      "Costs :  1.1845285491283837\n",
      "Costs :  1.1845285491283837\n",
      "Costs :  1.1433077186131169\n",
      "Costs :  1.1433077186131169\n",
      "Costs :  1.1433077186131169\n",
      "Costs :  1.1433077186131169\n",
      "Costs :  1.1433077186131169\n",
      "Costs :  1.1433077172257848\n"
     ]
    }
   ],
   "source": [
    "for i in range(len(costs)) :\n",
    "    print('Costs : ' , costs[i][0])\n",
    "    if i <1000 :\n",
    "        plt.scatter(i,costs[i][0],c='b')"
   ]
  },
  {
   "cell_type": "code",
   "execution_count": 22,
   "metadata": {},
   "outputs": [
    {
     "name": "stderr",
     "output_type": "stream",
     "text": [
      "No handles with labels found to put in legend.\n"
     ]
    },
    {
     "data": {
      "image/png": "[encoded data removed]",
      "text/plain": [
       "<matplotlib.figure.Figure at 0x1ec456aacf8>"
      ]
     },
     "metadata": {},
     "output_type": "display_data"
    }
   ],
   "source": [
    "plt.legend()\n",
    "plt.show()"
   ]
  },
  {
   "cell_type": "code",
   "execution_count": null,
   "metadata": {
    "collapsed": true
   },
   "outputs": [],
   "source": []
  }
 ],
 "metadata": {
  "kernelspec": {
   "display_name": "Python 3",
   "language": "python",
   "name": "python3"
  }
 },
 "nbformat": 4,
 "nbformat_minor": 2
}
